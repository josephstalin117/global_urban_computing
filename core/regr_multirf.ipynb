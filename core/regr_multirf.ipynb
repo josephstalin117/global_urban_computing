{
 "cells": [
  {
   "cell_type": "markdown",
   "metadata": {},
   "source": [
    "# 81个站点 测试数据"
   ]
  },
  {
   "cell_type": "code",
   "execution_count": 35,
   "metadata": {},
   "outputs": [],
   "source": [
    "from sklearn.ensemble import RandomForestRegressor\n",
    "from sklearn.multioutput import MultiOutputRegressor\n",
    "from sklearn.metrics import mean_absolute_error\n",
    "import pandas as pd\n",
    "import numpy as np\n",
    "metro_train_file_path = '/home/zhibo/data/hexi/hexi2/global_urban_computing/data'"
   ]
  },
  {
   "cell_type": "code",
   "execution_count": 36,
   "metadata": {},
   "outputs": [
    {
     "data": {
      "text/plain": [
       "14.741148834019205"
      ]
     },
     "execution_count": 36,
     "metadata": {},
     "output_type": "execute_result"
    }
   ],
   "source": [
    "all_y_pred = np.array([])\n",
    "all_y_test = np.array([])\n",
    "for i in range(81):\n",
    "    train_df = pd.read_csv(metro_train_file_path +  '/data_feature/st_'  + str(i) + '.csv')\n",
    "    test_df = pd.read_csv(metro_train_file_path + '/data_28/station_'  + str(i) + '.csv')\n",
    "\n",
    "    # Converting to date format\n",
    "    train_df[\"timestamp\"] = pd.to_datetime(train_df[\"timestamp\"])\n",
    "    test_df[\"timestamp\"] = pd.to_datetime(test_df[\"timestamp\"])\n",
    "\n",
    "    train_y = train_df[['inNums','outNums']]\n",
    "    test_y = test_df[['inNums','outNums']]\n",
    "    # Processing Dates...\n",
    "    train_df[\"Minute\"] = train_df[\"timestamp\"].apply(lambda x: x.minute) \n",
    "    test_df[\"Minute\"] = test_df[\"timestamp\"].apply(lambda x: x.minute)  \n",
    "    train_df[\"DayOfMonth\"] = train_df[\"timestamp\"].apply(lambda x: x.day)\n",
    "    test_df[\"DayOfMonth\"] = test_df[\"timestamp\"].apply(lambda x: x.day)\n",
    "\n",
    "    train_df.drop([\"timestamp\",'inNums','outNums','lag_yesterday_out','lag_yesterday_in','lag_last_week_out','lag_last_week_in'], axis=1, inplace=True)\n",
    "    test_df.drop([\"timestamp\",'inNums','outNums','lag_yesterday_out','lag_yesterday_in','lag_last_week_out','lag_last_week_in'], axis=1, inplace=True)\n",
    "\n",
    "    # model\n",
    "    max_depth = 30\n",
    "    regr_multirf = MultiOutputRegressor(RandomForestRegressor(n_estimators=100,\n",
    "                                                              max_depth=max_depth,\n",
    "                                                              random_state=0))\n",
    "    regr_multirf.fit(np.array(train_df)[:,:], np.array(train_y)[:,:])\n",
    "    y_multirf = regr_multirf.predict(np.array(test_df))\n",
    "    if i == 0:\n",
    "        all_y_pred = y_multirf\n",
    "        all_y_test = np.array(test_y)\n",
    "    else:\n",
    "        all_y_pred = np.append(all_y_pred, y_multirf, axis=0)\n",
    "        all_y_test = np.append(all_y_test, np.array(test_y), axis=0)\n",
    "    \n",
    "mean_absolute_error(all_y_test, all_y_pred)\n"
   ]
  },
  {
   "cell_type": "markdown",
   "metadata": {},
   "source": [
    "## 81个站点  提交数据"
   ]
  },
  {
   "cell_type": "code",
   "execution_count": null,
   "metadata": {},
   "outputs": [],
   "source": [
    "from sklearn.ensemble import RandomForestRegressor\n",
    "from sklearn.multioutput import MultiOutputRegressor\n",
    "from sklearn.metrics import mean_absolute_error\n",
    "import pandas as pd\n",
    "import numpy as np\n",
    "metro_train_file_path = '/home/zhibo/data/hexi/hexi2/global_urban_computing/data'"
   ]
  },
  {
   "cell_type": "code",
   "execution_count": 26,
   "metadata": {},
   "outputs": [
    {
     "data": {
      "text/html": [
       "<div>\n",
       "<style scoped>\n",
       "    .dataframe tbody tr th:only-of-type {\n",
       "        vertical-align: middle;\n",
       "    }\n",
       "\n",
       "    .dataframe tbody tr th {\n",
       "        vertical-align: top;\n",
       "    }\n",
       "\n",
       "    .dataframe thead th {\n",
       "        text-align: right;\n",
       "    }\n",
       "</style>\n",
       "<table border=\"1\" class=\"dataframe\">\n",
       "  <thead>\n",
       "    <tr style=\"text-align: right;\">\n",
       "      <th></th>\n",
       "      <th>stationID</th>\n",
       "      <th>startTime</th>\n",
       "      <th>endTime</th>\n",
       "      <th>inNums</th>\n",
       "      <th>outNums</th>\n",
       "    </tr>\n",
       "  </thead>\n",
       "  <tbody>\n",
       "    <tr>\n",
       "      <th>0</th>\n",
       "      <td>0</td>\n",
       "      <td>2019-01-29 00:00:00</td>\n",
       "      <td>2019-01-29 00:10:00</td>\n",
       "      <td>NaN</td>\n",
       "      <td>NaN</td>\n",
       "    </tr>\n",
       "    <tr>\n",
       "      <th>1</th>\n",
       "      <td>0</td>\n",
       "      <td>2019-01-29 00:10:00</td>\n",
       "      <td>2019-01-29 00:20:00</td>\n",
       "      <td>NaN</td>\n",
       "      <td>NaN</td>\n",
       "    </tr>\n",
       "    <tr>\n",
       "      <th>2</th>\n",
       "      <td>0</td>\n",
       "      <td>2019-01-29 00:20:00</td>\n",
       "      <td>2019-01-29 00:30:00</td>\n",
       "      <td>NaN</td>\n",
       "      <td>NaN</td>\n",
       "    </tr>\n",
       "    <tr>\n",
       "      <th>3</th>\n",
       "      <td>0</td>\n",
       "      <td>2019-01-29 00:30:00</td>\n",
       "      <td>2019-01-29 00:40:00</td>\n",
       "      <td>NaN</td>\n",
       "      <td>NaN</td>\n",
       "    </tr>\n",
       "    <tr>\n",
       "      <th>4</th>\n",
       "      <td>0</td>\n",
       "      <td>2019-01-29 00:40:00</td>\n",
       "      <td>2019-01-29 00:50:00</td>\n",
       "      <td>NaN</td>\n",
       "      <td>NaN</td>\n",
       "    </tr>\n",
       "  </tbody>\n",
       "</table>\n",
       "</div>"
      ],
      "text/plain": [
       "   stationID            startTime              endTime  inNums  outNums\n",
       "0          0  2019-01-29 00:00:00  2019-01-29 00:10:00     NaN      NaN\n",
       "1          0  2019-01-29 00:10:00  2019-01-29 00:20:00     NaN      NaN\n",
       "2          0  2019-01-29 00:20:00  2019-01-29 00:30:00     NaN      NaN\n",
       "3          0  2019-01-29 00:30:00  2019-01-29 00:40:00     NaN      NaN\n",
       "4          0  2019-01-29 00:40:00  2019-01-29 00:50:00     NaN      NaN"
      ]
     },
     "execution_count": 26,
     "metadata": {},
     "output_type": "execute_result"
    }
   ],
   "source": [
    "df = pd.read_csv(metro_train_file_path +  '/Metro_testA/testA_submit_2019-01-29.csv')\n",
    "df.head()"
   ]
  },
  {
   "cell_type": "code",
   "execution_count": 27,
   "metadata": {},
   "outputs": [
    {
     "data": {
      "text/plain": [
       "pandas.core.frame.DataFrame"
      ]
     },
     "execution_count": 27,
     "metadata": {},
     "output_type": "execute_result"
    }
   ],
   "source": [
    "test_df = pd.read_csv(metro_train_file_path +  '/Metro_testA/testA_submit_2019-01-29.csv')\n",
    "test_df.drop([\"stationID\", \"endTime\",\"inNums\",\"outNums\"], axis=1, inplace=True)\n",
    "test_list = [None]*81\n",
    "for i in range(81):\n",
    "    test_list[i] = test_df[i*144:(i+1)*144]\n",
    "type(test_list[80])"
   ]
  },
  {
   "cell_type": "code",
   "execution_count": 28,
   "metadata": {},
   "outputs": [
    {
     "data": {
      "text/html": [
       "<div>\n",
       "<style scoped>\n",
       "    .dataframe tbody tr th:only-of-type {\n",
       "        vertical-align: middle;\n",
       "    }\n",
       "\n",
       "    .dataframe tbody tr th {\n",
       "        vertical-align: top;\n",
       "    }\n",
       "\n",
       "    .dataframe thead th {\n",
       "        text-align: right;\n",
       "    }\n",
       "</style>\n",
       "<table border=\"1\" class=\"dataframe\">\n",
       "  <thead>\n",
       "    <tr style=\"text-align: right;\">\n",
       "      <th></th>\n",
       "      <th>timestamp</th>\n",
       "      <th>inNums</th>\n",
       "      <th>outNums</th>\n",
       "      <th>week_day</th>\n",
       "      <th>current_hour</th>\n",
       "      <th>lag_yesterday_in</th>\n",
       "      <th>lag_yesterday_out</th>\n",
       "      <th>lag_last_week_in</th>\n",
       "      <th>lag_last_week_out</th>\n",
       "      <th>is_holiday</th>\n",
       "    </tr>\n",
       "  </thead>\n",
       "  <tbody>\n",
       "    <tr>\n",
       "      <th>0</th>\n",
       "      <td>2019-01-28 00:00:00</td>\n",
       "      <td>0</td>\n",
       "      <td>2</td>\n",
       "      <td>0</td>\n",
       "      <td>0</td>\n",
       "      <td>1</td>\n",
       "      <td>2</td>\n",
       "      <td>0</td>\n",
       "      <td>0</td>\n",
       "      <td>0</td>\n",
       "    </tr>\n",
       "    <tr>\n",
       "      <th>1</th>\n",
       "      <td>2019-01-28 00:10:00</td>\n",
       "      <td>0</td>\n",
       "      <td>0</td>\n",
       "      <td>0</td>\n",
       "      <td>0</td>\n",
       "      <td>3</td>\n",
       "      <td>1</td>\n",
       "      <td>2</td>\n",
       "      <td>1</td>\n",
       "      <td>0</td>\n",
       "    </tr>\n",
       "    <tr>\n",
       "      <th>2</th>\n",
       "      <td>2019-01-28 00:20:00</td>\n",
       "      <td>0</td>\n",
       "      <td>0</td>\n",
       "      <td>0</td>\n",
       "      <td>0</td>\n",
       "      <td>3</td>\n",
       "      <td>3</td>\n",
       "      <td>0</td>\n",
       "      <td>0</td>\n",
       "      <td>0</td>\n",
       "    </tr>\n",
       "    <tr>\n",
       "      <th>3</th>\n",
       "      <td>2019-01-28 00:30:00</td>\n",
       "      <td>0</td>\n",
       "      <td>0</td>\n",
       "      <td>0</td>\n",
       "      <td>0</td>\n",
       "      <td>0</td>\n",
       "      <td>2</td>\n",
       "      <td>0</td>\n",
       "      <td>0</td>\n",
       "      <td>0</td>\n",
       "    </tr>\n",
       "    <tr>\n",
       "      <th>4</th>\n",
       "      <td>2019-01-28 00:40:00</td>\n",
       "      <td>0</td>\n",
       "      <td>0</td>\n",
       "      <td>0</td>\n",
       "      <td>0</td>\n",
       "      <td>2</td>\n",
       "      <td>1</td>\n",
       "      <td>0</td>\n",
       "      <td>0</td>\n",
       "      <td>0</td>\n",
       "    </tr>\n",
       "  </tbody>\n",
       "</table>\n",
       "</div>"
      ],
      "text/plain": [
       "             timestamp  inNums  outNums  week_day  current_hour  \\\n",
       "0  2019-01-28 00:00:00       0        2         0             0   \n",
       "1  2019-01-28 00:10:00       0        0         0             0   \n",
       "2  2019-01-28 00:20:00       0        0         0             0   \n",
       "3  2019-01-28 00:30:00       0        0         0             0   \n",
       "4  2019-01-28 00:40:00       0        0         0             0   \n",
       "\n",
       "   lag_yesterday_in  lag_yesterday_out  lag_last_week_in  lag_last_week_out  \\\n",
       "0                 1                  2                 0                  0   \n",
       "1                 3                  1                 2                  1   \n",
       "2                 3                  3                 0                  0   \n",
       "3                 0                  2                 0                  0   \n",
       "4                 2                  1                 0                  0   \n",
       "\n",
       "   is_holiday  \n",
       "0           0  \n",
       "1           0  \n",
       "2           0  \n",
       "3           0  \n",
       "4           0  "
      ]
     },
     "execution_count": 28,
     "metadata": {},
     "output_type": "execute_result"
    }
   ],
   "source": [
    "train_df28 = pd.read_csv(metro_train_file_path + '/data_28/station_6.csv')\n",
    "train_df28.head()"
   ]
  },
  {
   "cell_type": "code",
   "execution_count": 29,
   "metadata": {},
   "outputs": [
    {
     "data": {
      "text/plain": [
       "11664"
      ]
     },
     "execution_count": 29,
     "metadata": {},
     "output_type": "execute_result"
    }
   ],
   "source": [
    "all_y_pred = np.array([])\n",
    "\n",
    "for i in range(81):\n",
    "    train_df =  pd.read_csv(metro_train_file_path +  '/data_feature/st_'  + str(i) + '.csv')\n",
    "    train_df28 = pd.read_csv(metro_train_file_path + '/data_28/station_'  + str(i) + '.csv')\n",
    "    train_df.drop(['lag_yesterday_out','lag_yesterday_in','lag_last_week_out','lag_last_week_in'], axis=1, inplace=True)\n",
    "    train_df28.drop(['lag_yesterday_out','lag_yesterday_in','lag_last_week_out','lag_last_week_in'], axis=1, inplace=True)\n",
    "    train_df = train_df.append(train_df28)\n",
    "    test_df = test_list[i]\n",
    "    \n",
    "    # Converting to date format\n",
    "    train_df[\"timestamp\"] = pd.to_datetime(train_df[\"timestamp\"])\n",
    "    test_df[\"timestamp\"] = pd.to_datetime(test_df[\"startTime\"])\n",
    "    \n",
    "    train_y = train_df[['inNums','outNums']]\n",
    "    # Processing Dates...\n",
    "    test_df['week_day'] = test_df['timestamp'].apply(lambda x: x.dayofweek) \n",
    "    test_df['current_hour'] = test_df['timestamp'].apply(lambda x: x.hour) \n",
    "    test_df['is_holiday'] = test_df['week_day'].isin([5,6])\n",
    "    test_df['is_holiday'] = test_df['is_holiday']*1\n",
    "    \n",
    "    train_df[\"Minute\"] = train_df[\"timestamp\"].apply(lambda x: x.minute) \n",
    "    test_df[\"Minute\"] = test_df[\"timestamp\"].apply(lambda x: x.minute)  \n",
    "    train_df[\"DayOfMonth\"] = train_df[\"timestamp\"].apply(lambda x: x.day)\n",
    "    test_df[\"DayOfMonth\"] = test_df[\"timestamp\"].apply(lambda x: x.day)\n",
    "    \n",
    "    \n",
    "    train_df.drop(['timestamp','inNums','outNums'], axis=1, inplace=True)\n",
    "    test_df.drop(['timestamp',\"startTime\"], axis=1, inplace=True)\n",
    "\n",
    "    # model\n",
    "    max_depth = 30\n",
    "    regr_multirf = MultiOutputRegressor(RandomForestRegressor(n_estimators=100,\n",
    "                                                              max_depth=max_depth,\n",
    "                                                              random_state=0))\n",
    "    regr_multirf.fit(np.array(train_df)[:,:], np.array(train_y)[:,:])\n",
    "    y_multirf = regr_multirf.predict(np.array(test_df))\n",
    "    if i == 0:\n",
    "        all_y_pred = y_multirf\n",
    "    else:\n",
    "        all_y_pred = np.append(all_y_pred, y_multirf, axis=0)\n",
    "all_y_pred.shape"
   ]
  },
  {
   "cell_type": "code",
   "execution_count": 30,
   "metadata": {},
   "outputs": [
    {
     "data": {
      "text/plain": [
       "(11664, 2)"
      ]
     },
     "execution_count": 30,
     "metadata": {},
     "output_type": "execute_result"
    }
   ],
   "source": [
    "all_y_pred.shape"
   ]
  },
  {
   "cell_type": "code",
   "execution_count": 31,
   "metadata": {},
   "outputs": [
    {
     "data": {
      "text/html": [
       "<div>\n",
       "<style scoped>\n",
       "    .dataframe tbody tr th:only-of-type {\n",
       "        vertical-align: middle;\n",
       "    }\n",
       "\n",
       "    .dataframe tbody tr th {\n",
       "        vertical-align: top;\n",
       "    }\n",
       "\n",
       "    .dataframe thead th {\n",
       "        text-align: right;\n",
       "    }\n",
       "</style>\n",
       "<table border=\"1\" class=\"dataframe\">\n",
       "  <thead>\n",
       "    <tr style=\"text-align: right;\">\n",
       "      <th></th>\n",
       "      <th>inNums</th>\n",
       "      <th>outNums</th>\n",
       "    </tr>\n",
       "  </thead>\n",
       "  <tbody>\n",
       "    <tr>\n",
       "      <th>0</th>\n",
       "      <td>0.0</td>\n",
       "      <td>1.60</td>\n",
       "    </tr>\n",
       "    <tr>\n",
       "      <th>1</th>\n",
       "      <td>0.0</td>\n",
       "      <td>1.60</td>\n",
       "    </tr>\n",
       "    <tr>\n",
       "      <th>2</th>\n",
       "      <td>0.0</td>\n",
       "      <td>0.31</td>\n",
       "    </tr>\n",
       "    <tr>\n",
       "      <th>3</th>\n",
       "      <td>0.0</td>\n",
       "      <td>0.00</td>\n",
       "    </tr>\n",
       "    <tr>\n",
       "      <th>4</th>\n",
       "      <td>0.1</td>\n",
       "      <td>0.01</td>\n",
       "    </tr>\n",
       "  </tbody>\n",
       "</table>\n",
       "</div>"
      ],
      "text/plain": [
       "   inNums  outNums\n",
       "0     0.0     1.60\n",
       "1     0.0     1.60\n",
       "2     0.0     0.31\n",
       "3     0.0     0.00\n",
       "4     0.1     0.01"
      ]
     },
     "execution_count": 31,
     "metadata": {},
     "output_type": "execute_result"
    }
   ],
   "source": [
    "output= pd.DataFrame({\"inNums\":all_y_pred[:,0],\"outNums\":all_y_pred[:,1]})\n",
    "output.head()"
   ]
  },
  {
   "cell_type": "code",
   "execution_count": 32,
   "metadata": {},
   "outputs": [
    {
     "data": {
      "text/html": [
       "<div>\n",
       "<style scoped>\n",
       "    .dataframe tbody tr th:only-of-type {\n",
       "        vertical-align: middle;\n",
       "    }\n",
       "\n",
       "    .dataframe tbody tr th {\n",
       "        vertical-align: top;\n",
       "    }\n",
       "\n",
       "    .dataframe thead th {\n",
       "        text-align: right;\n",
       "    }\n",
       "</style>\n",
       "<table border=\"1\" class=\"dataframe\">\n",
       "  <thead>\n",
       "    <tr style=\"text-align: right;\">\n",
       "      <th></th>\n",
       "      <th>stationID</th>\n",
       "      <th>startTime</th>\n",
       "      <th>endTime</th>\n",
       "      <th>inNums</th>\n",
       "      <th>outNums</th>\n",
       "    </tr>\n",
       "  </thead>\n",
       "  <tbody>\n",
       "    <tr>\n",
       "      <th>0</th>\n",
       "      <td>0</td>\n",
       "      <td>2019-01-29 00:00:00</td>\n",
       "      <td>2019-01-29 00:10:00</td>\n",
       "      <td>0.0</td>\n",
       "      <td>1.60</td>\n",
       "    </tr>\n",
       "    <tr>\n",
       "      <th>1</th>\n",
       "      <td>0</td>\n",
       "      <td>2019-01-29 00:10:00</td>\n",
       "      <td>2019-01-29 00:20:00</td>\n",
       "      <td>0.0</td>\n",
       "      <td>1.60</td>\n",
       "    </tr>\n",
       "    <tr>\n",
       "      <th>2</th>\n",
       "      <td>0</td>\n",
       "      <td>2019-01-29 00:20:00</td>\n",
       "      <td>2019-01-29 00:30:00</td>\n",
       "      <td>0.0</td>\n",
       "      <td>0.31</td>\n",
       "    </tr>\n",
       "    <tr>\n",
       "      <th>3</th>\n",
       "      <td>0</td>\n",
       "      <td>2019-01-29 00:30:00</td>\n",
       "      <td>2019-01-29 00:40:00</td>\n",
       "      <td>0.0</td>\n",
       "      <td>0.00</td>\n",
       "    </tr>\n",
       "    <tr>\n",
       "      <th>4</th>\n",
       "      <td>0</td>\n",
       "      <td>2019-01-29 00:40:00</td>\n",
       "      <td>2019-01-29 00:50:00</td>\n",
       "      <td>0.1</td>\n",
       "      <td>0.01</td>\n",
       "    </tr>\n",
       "  </tbody>\n",
       "</table>\n",
       "</div>"
      ],
      "text/plain": [
       "   stationID            startTime              endTime  inNums  outNums\n",
       "0          0  2019-01-29 00:00:00  2019-01-29 00:10:00     0.0     1.60\n",
       "1          0  2019-01-29 00:10:00  2019-01-29 00:20:00     0.0     1.60\n",
       "2          0  2019-01-29 00:20:00  2019-01-29 00:30:00     0.0     0.31\n",
       "3          0  2019-01-29 00:30:00  2019-01-29 00:40:00     0.0     0.00\n",
       "4          0  2019-01-29 00:40:00  2019-01-29 00:50:00     0.1     0.01"
      ]
     },
     "execution_count": 32,
     "metadata": {},
     "output_type": "execute_result"
    }
   ],
   "source": [
    "# Saving the predictions #\n",
    "test_df = pd.read_csv(metro_train_file_path +  '/Metro_testA/testA_submit_2019-01-29.csv')\n",
    "test_df[[\"inNums\",\"outNums\"]]=output[[\"inNums\",\"outNums\"]]\n",
    "test_df.head()"
   ]
  },
  {
   "cell_type": "code",
   "execution_count": 34,
   "metadata": {},
   "outputs": [],
   "source": [
    "test_df.to_csv(\"/home/quanxi/Projects/sub00_regr.csv\", index=False)"
   ]
  }
 ],
 "metadata": {
  "kernelspec": {
   "display_name": "Python 3",
   "language": "python",
   "name": "python3"
  },
  "language_info": {
   "codemirror_mode": {
    "name": "ipython",
    "version": 3
   },
   "file_extension": ".py",
   "mimetype": "text/x-python",
   "name": "python",
   "nbconvert_exporter": "python",
   "pygments_lexer": "ipython3",
   "version": "3.6.4"
  }
 },
 "nbformat": 4,
 "nbformat_minor": 2
}
