{
 "cells": [
  {
   "cell_type": "code",
   "execution_count": 1,
   "metadata": {},
   "outputs": [
    {
     "data": {
      "text/html": [
       "<div>\n",
       "<style scoped>\n",
       "    .dataframe tbody tr th:only-of-type {\n",
       "        vertical-align: middle;\n",
       "    }\n",
       "\n",
       "    .dataframe tbody tr th {\n",
       "        vertical-align: top;\n",
       "    }\n",
       "\n",
       "    .dataframe thead th {\n",
       "        text-align: right;\n",
       "    }\n",
       "</style>\n",
       "<table border=\"1\" class=\"dataframe\">\n",
       "  <thead>\n",
       "    <tr style=\"text-align: right;\">\n",
       "      <th></th>\n",
       "      <th>week_day</th>\n",
       "      <th>current_hour</th>\n",
       "      <th>is_holiday</th>\n",
       "      <th>temperature</th>\n",
       "      <th>humidity</th>\n",
       "      <th>visibility</th>\n",
       "      <th>diff_in</th>\n",
       "      <th>diff_out</th>\n",
       "      <th>tomorrow_inNums</th>\n",
       "      <th>tomorrow_outNums</th>\n",
       "      <th>Minute</th>\n",
       "      <th>DayOfMonth</th>\n",
       "      <th>DayOfYear</th>\n",
       "    </tr>\n",
       "  </thead>\n",
       "  <tbody>\n",
       "    <tr>\n",
       "      <th>0</th>\n",
       "      <td>2</td>\n",
       "      <td>0</td>\n",
       "      <td>0</td>\n",
       "      <td>0.8</td>\n",
       "      <td>92</td>\n",
       "      <td>1.8</td>\n",
       "      <td>0</td>\n",
       "      <td>-5</td>\n",
       "      <td>0</td>\n",
       "      <td>0</td>\n",
       "      <td>0</td>\n",
       "      <td>2</td>\n",
       "      <td>2</td>\n",
       "    </tr>\n",
       "    <tr>\n",
       "      <th>1</th>\n",
       "      <td>2</td>\n",
       "      <td>0</td>\n",
       "      <td>0</td>\n",
       "      <td>0.8</td>\n",
       "      <td>92</td>\n",
       "      <td>1.8</td>\n",
       "      <td>0</td>\n",
       "      <td>-4</td>\n",
       "      <td>0</td>\n",
       "      <td>0</td>\n",
       "      <td>10</td>\n",
       "      <td>2</td>\n",
       "      <td>2</td>\n",
       "    </tr>\n",
       "    <tr>\n",
       "      <th>2</th>\n",
       "      <td>2</td>\n",
       "      <td>0</td>\n",
       "      <td>0</td>\n",
       "      <td>0.8</td>\n",
       "      <td>92</td>\n",
       "      <td>1.8</td>\n",
       "      <td>0</td>\n",
       "      <td>3</td>\n",
       "      <td>0</td>\n",
       "      <td>0</td>\n",
       "      <td>20</td>\n",
       "      <td>2</td>\n",
       "      <td>2</td>\n",
       "    </tr>\n",
       "    <tr>\n",
       "      <th>3</th>\n",
       "      <td>2</td>\n",
       "      <td>0</td>\n",
       "      <td>0</td>\n",
       "      <td>0.8</td>\n",
       "      <td>92</td>\n",
       "      <td>1.8</td>\n",
       "      <td>0</td>\n",
       "      <td>-3</td>\n",
       "      <td>0</td>\n",
       "      <td>0</td>\n",
       "      <td>30</td>\n",
       "      <td>2</td>\n",
       "      <td>2</td>\n",
       "    </tr>\n",
       "    <tr>\n",
       "      <th>4</th>\n",
       "      <td>2</td>\n",
       "      <td>0</td>\n",
       "      <td>0</td>\n",
       "      <td>0.8</td>\n",
       "      <td>92</td>\n",
       "      <td>1.8</td>\n",
       "      <td>0</td>\n",
       "      <td>0</td>\n",
       "      <td>0</td>\n",
       "      <td>0</td>\n",
       "      <td>40</td>\n",
       "      <td>2</td>\n",
       "      <td>2</td>\n",
       "    </tr>\n",
       "  </tbody>\n",
       "</table>\n",
       "</div>"
      ],
      "text/plain": [
       "   week_day  current_hour  is_holiday  temperature  humidity  visibility  \\\n",
       "0         2             0           0          0.8        92         1.8   \n",
       "1         2             0           0          0.8        92         1.8   \n",
       "2         2             0           0          0.8        92         1.8   \n",
       "3         2             0           0          0.8        92         1.8   \n",
       "4         2             0           0          0.8        92         1.8   \n",
       "\n",
       "   diff_in  diff_out  tomorrow_inNums  tomorrow_outNums  Minute  DayOfMonth  \\\n",
       "0        0        -5                0                 0       0           2   \n",
       "1        0        -4                0                 0      10           2   \n",
       "2        0         3                0                 0      20           2   \n",
       "3        0        -3                0                 0      30           2   \n",
       "4        0         0                0                 0      40           2   \n",
       "\n",
       "   DayOfYear  \n",
       "0          2  \n",
       "1          2  \n",
       "2          2  \n",
       "3          2  \n",
       "4          2  "
      ]
     },
     "execution_count": 1,
     "metadata": {},
     "output_type": "execute_result"
    }
   ],
   "source": [
    "import pandas as pd\n",
    "import numpy as np\n",
    "\n",
    "metro_train_file_path = '/home/zhibo/data/hexi/hexi2/global_urban_computing/data'\n",
    "\n",
    "train_df = pd.read_csv(metro_train_file_path + '/feature/feature_2-19/st_0.csv')\n",
    "test_df = pd.read_csv(metro_train_file_path + '/feature/feature_20-24/st_0.csv')\n",
    "\n",
    "# Converting to date format\n",
    "train_df[\"timestamp\"] = pd.to_datetime(train_df[\"timestamp\"])\n",
    "test_df[\"timestamp\"] = pd.to_datetime(test_df[\"timestamp\"])\n",
    "\n",
    "train_y = train_df[['tomorrow_inNums','tomorrow_outNums']]\n",
    "test_y = test_df[['tomorrow_inNums','tomorrow_outNums']]\n",
    "# Processing Dates...\n",
    "train_df[\"Minute\"] = train_df[\"timestamp\"].apply(lambda x: x.minute) \n",
    "test_df[\"Minute\"] = test_df[\"timestamp\"].apply(lambda x: x.minute)  \n",
    "train_df[\"DayOfMonth\"] = train_df[\"timestamp\"].apply(lambda x: x.day)\n",
    "test_df[\"DayOfMonth\"] = test_df[\"timestamp\"].apply(lambda x: x.day)\n",
    "train_df[\"DayOfYear\"] = train_df[\"timestamp\"].apply(lambda x: x.timetuple().tm_yday)\n",
    "test_df[\"DayOfYear\"] = test_df[\"timestamp\"].apply(lambda x: x.timetuple().tm_yday)\n",
    "\n",
    "train_df.drop([\"timestamp\",'inNums','outNums','lag_yesterday_out','lag_yesterday_in','lag_last_week_out','lag_last_week_in'], axis=1, inplace=True)\n",
    "test_df.drop([\"timestamp\",'inNums','outNums','lag_yesterday_out','lag_yesterday_in','lag_last_week_out','lag_last_week_in'], axis=1, inplace=True)\n",
    "train_df.head()"
   ]
  },
  {
   "cell_type": "code",
   "execution_count": 2,
   "metadata": {},
   "outputs": [
    {
     "data": {
      "text/plain": [
       "0.13851388888888916"
      ]
     },
     "execution_count": 2,
     "metadata": {},
     "output_type": "execute_result"
    }
   ],
   "source": [
    "from sklearn.ensemble import RandomForestRegressor\n",
    "from sklearn.multioutput import MultiOutputRegressor\n",
    "from sklearn.metrics import mean_absolute_error\n",
    "\n",
    "max_depth = 30\n",
    "regr_multirf = MultiOutputRegressor(RandomForestRegressor(n_estimators=100,\n",
    "                                                          max_depth=max_depth,\n",
    "                                                          random_state=0))\n",
    "regr_multirf.fit(np.array(train_df)[:,:], np.array(train_y)[:,:])\n",
    "y_multirf = regr_multirf.predict(np.array(test_df))\n",
    "mean_absolute_error(np.array(test_y), y_multirf)"
   ]
  },
  {
   "cell_type": "markdown",
   "metadata": {},
   "source": [
    "# 81个站点 测试数据"
   ]
  },
  {
   "cell_type": "code",
   "execution_count": 3,
   "metadata": {},
   "outputs": [],
   "source": [
    "from sklearn.ensemble import RandomForestRegressor\n",
    "from sklearn.multioutput import MultiOutputRegressor\n",
    "from sklearn.metrics import mean_absolute_error\n",
    "import pandas as pd\n",
    "import numpy as np\n",
    "metro_train_file_path = '/home/zhibo/data/hexi/hexi2/global_urban_computing/data'"
   ]
  },
  {
   "cell_type": "code",
   "execution_count": 4,
   "metadata": {},
   "outputs": [
    {
     "data": {
      "text/plain": [
       "0.21235450960219476"
      ]
     },
     "execution_count": 4,
     "metadata": {},
     "output_type": "execute_result"
    }
   ],
   "source": [
    "all_y_pred = np.array([])\n",
    "all_y_test = np.array([])\n",
    "for i in range(81):\n",
    "    train_df = pd.read_csv(metro_train_file_path +  '/feature/feature_2-19/st_'  + str(i) + '.csv')\n",
    "    test_df = pd.read_csv(metro_train_file_path + '/feature/feature_20-24/st_'  + str(i) + '.csv')\n",
    "\n",
    "    # Converting to date format\n",
    "    train_df[\"timestamp\"] = pd.to_datetime(train_df[\"timestamp\"])\n",
    "    test_df[\"timestamp\"] = pd.to_datetime(test_df[\"timestamp\"])\n",
    "\n",
    "    train_y = train_df[['tomorrow_inNums','tomorrow_outNums']]\n",
    "    test_y = test_df[['tomorrow_inNums','tomorrow_outNums']]\n",
    "    # Processing Dates...\n",
    "    train_df[\"Minute\"] = train_df[\"timestamp\"].apply(lambda x: x.minute) \n",
    "    test_df[\"Minute\"] = test_df[\"timestamp\"].apply(lambda x: x.minute)  \n",
    "    train_df[\"DayOfMonth\"] = train_df[\"timestamp\"].apply(lambda x: x.day)\n",
    "    test_df[\"DayOfMonth\"] = test_df[\"timestamp\"].apply(lambda x: x.day)\n",
    "    train_df[\"DayOfYear\"] = train_df[\"timestamp\"].apply(lambda x: x.timetuple().tm_yday)\n",
    "    test_df[\"DayOfYear\"] = test_df[\"timestamp\"].apply(lambda x: x.timetuple().tm_yday)\n",
    "    \n",
    "    train_df.drop([\"timestamp\",'inNums','outNums','lag_yesterday_out','lag_yesterday_in','lag_last_week_out','lag_last_week_in'], axis=1, inplace=True)\n",
    "    test_df.drop([\"timestamp\",'inNums','outNums','lag_yesterday_out','lag_yesterday_in','lag_last_week_out','lag_last_week_in'], axis=1, inplace=True)\n",
    "\n",
    "    # model\n",
    "    max_depth = 30\n",
    "    regr_multirf = MultiOutputRegressor(RandomForestRegressor(n_estimators=100,\n",
    "                                                              max_depth=max_depth,\n",
    "                                                              random_state=0))\n",
    "    regr_multirf.fit(np.array(train_df)[:,:], np.array(train_y)[:,:])\n",
    "    y_multirf = regr_multirf.predict(np.array(test_df))\n",
    "    if i == 0:\n",
    "        all_y_pred = y_multirf\n",
    "        all_y_test = np.array(test_y)\n",
    "    else:\n",
    "        all_y_pred = np.append(all_y_pred, y_multirf, axis=0)\n",
    "        all_y_test = np.append(all_y_test, np.array(test_y), axis=0)\n",
    "    \n",
    "mean_absolute_error(all_y_test, all_y_pred)\n"
   ]
  },
  {
   "cell_type": "markdown",
   "metadata": {},
   "source": [
    "## 81个站点  提交数据"
   ]
  },
  {
   "cell_type": "code",
   "execution_count": 5,
   "metadata": {},
   "outputs": [],
   "source": [
    "from sklearn.ensemble import RandomForestRegressor\n",
    "from sklearn.multioutput import MultiOutputRegressor\n",
    "from sklearn.metrics import mean_absolute_error\n",
    "import pandas as pd\n",
    "import numpy as np\n",
    "metro_train_file_path = '/home/zhibo/data/hexi/hexi2/global_urban_computing/data'"
   ]
  },
  {
   "cell_type": "code",
   "execution_count": null,
   "metadata": {},
   "outputs": [],
   "source": [
    "all_y_pred = np.array([])\n",
    "\n",
    "for i in range(81):\n",
    "    train_df =  pd.read_csv(metro_train_file_path +  '/feature/feature_2-24/st_'  + str(i) + '.csv')\n",
    "    #train_df28 = pd.read_csv(metro_train_file_path + '/data_28/station_'  + str(i) + '.csv')\n",
    "    #train_df.drop(['lag_yesterday_out','lag_yesterday_in','lag_last_week_out','lag_last_week_in'], axis=1, inplace=True)\n",
    "\n",
    "    #train_df28.drop(['lag_yesterday_out','lag_yesterday_in','lag_last_week_out','lag_last_week_in'], axis=1, inplace=True)\n",
    "    #train_df = train_df.append(train_df28)\n",
    "    #test_df = test_list[i]\n",
    "    test_df = pd.read_csv(metro_train_file_path + '/feature/feature_28/st_'  + str(i) + '.csv')\n",
    "    \n",
    "    # Converting to date format\n",
    "    train_df[\"timestamp\"] = pd.to_datetime(train_df[\"timestamp\"])\n",
    "    test_df[\"timestamp\"] = pd.to_datetime(test_df[\"timestamp\"])\n",
    "    \n",
    "    train_y = train_df[['tomorrow_inNums','tomorrow_outNums']]\n",
    "    # Processing Dates...\n",
    "    #test_df['week_day'] = test_df['timestamp'].apply(lambda x: x.dayofweek) \n",
    "    #test_df['current_hour'] = test_df['timestamp'].apply(lambda x: x.hour) \n",
    "   # test_df['is_holiday'] = test_df['week_day'].isin([5,6])\n",
    "    #test_df['is_holiday'] = test_df['is_holiday']*1\n",
    "    \n",
    "    train_df[\"Minute\"] = train_df[\"timestamp\"].apply(lambda x: x.minute) \n",
    "    test_df[\"Minute\"] = test_df[\"timestamp\"].apply(lambda x: x.minute)  \n",
    "    train_df[\"DayOfMonth\"] = train_df[\"timestamp\"].apply(lambda x: x.day)\n",
    "    test_df[\"DayOfMonth\"] = test_df[\"timestamp\"].apply(lambda x: x.day)\n",
    "    train_df[\"DayOfYear\"] = train_df[\"timestamp\"].apply(lambda x: x.timetuple().tm_yday)\n",
    "    test_df[\"DayOfYear\"] = test_df[\"timestamp\"].apply(lambda x: x.timetuple().tm_yday)\n",
    "    \n",
    "    train_df.drop(['timestamp','tomorrow_inNums','tomorrow_outNums','lag_yesterday_out','lag_yesterday_in','lag_last_week_out','lag_last_week_in'], axis=1, inplace=True)\n",
    "    #test_df.drop(['timestamp',\"startTime\"], axis=1, inplace=True)\n",
    "    test_df.drop([\"timestamp\",'lag_yesterd    ay_out','lag_yesterday_in','lag_last_week_out','lag_last_week_in'], axis=1, inplace=True)\n",
    "    # model\n",
    "    max_depth = 30\n",
    "    regr_multirf = MultiOutputRegressor(RandomForestRegressor(n_estimators=100,\n",
    "                                                              max_depth=max_depth,\n",
    "                                                              random_state=0))\n",
    "    regr_multirf.fit(np.array(train_df)[:,:], np.array(train_y)[:,:])\n",
    "    y_multirf = regr_multirf.predict(np.array(test_df))\n",
    "    if i == 0:\n",
    "        all_y_pred = y_multirf\n",
    "    else:\n",
    "        all_y_pred = np.append(all_y_pred, y_multirf, axis=0)\n",
    "all_y_pred.shape"
   ]
  },
  {
   "cell_type": "code",
   "execution_count": null,
   "metadata": {},
   "outputs": [],
   "source": [
    "output= pd.DataFrame({\"inNums\":all_y_pred[:,0],\"outNums\":all_y_pred[:,1]})\n",
    "output.head()"
   ]
  },
  {
   "cell_type": "code",
   "execution_count": null,
   "metadata": {},
   "outputs": [],
   "source": [
    "# Saving the predictions #\n",
    "test_df = pd.read_csv(metro_train_file_path +  '/Metro_testA/testA_submit_2019-01-29.csv')\n",
    "test_df[[\"inNums\",\"outNums\"]]=output[[\"inNums\",\"outNums\"]]\n",
    "test_df.head()"
   ]
  },
  {
   "cell_type": "code",
   "execution_count": null,
   "metadata": {},
   "outputs": [],
   "source": [
    "test_df.to_csv(\"/home/quanxi/Projects/sub03_regr.csv\")"
   ]
  },
  {
   "cell_type": "code",
   "execution_count": null,
   "metadata": {},
   "outputs": [],
   "source": []
  }
 ],
 "metadata": {
  "kernelspec": {
   "display_name": "Python 3",
   "language": "python",
   "name": "python3"
  },
  "language_info": {
   "codemirror_mode": {
    "name": "ipython",
    "version": 3
   },
   "file_extension": ".py",
   "mimetype": "text/x-python",
   "name": "python",
   "nbconvert_exporter": "python",
   "pygments_lexer": "ipython3",
   "version": "3.6.4"
  }
 },
 "nbformat": 4,
 "nbformat_minor": 2
}
